{
  "nbformat": 4,
  "nbformat_minor": 0,
  "metadata": {
    "colab": {
      "name": "ImageProcessing-PILLOW.ipynb",
      "provenance": []
    },
    "kernelspec": {
      "name": "python3",
      "display_name": "Python 3"
    }
  },
  "cells": [
    {
      "cell_type": "code",
      "metadata": {
        "id": "6fUPMBQaIssn",
        "colab_type": "code",
        "colab": {}
      },
      "source": [
        "#Mount Drive\n",
        "from google.colab import drive\n",
        "drive.mount('/content/drive')"
      ],
      "execution_count": 1,
      "outputs": []
    },
    {
      "cell_type": "code",
      "metadata": {
        "id": "a9YCqMtnI8iE",
        "colab_type": "code",
        "colab": {}
      },
      "source": [
        "image_x = \"/content/drive/My Drive/ImageProcessing/x.png\"\n",
        "image_o = \"/content/drive/My Drive/ImageProcessing/o.png\""
      ],
      "execution_count": 2,
      "outputs": []
    },
    {
      "cell_type": "code",
      "metadata": {
        "id": "Z_ac-woQJJUA",
        "colab_type": "code",
        "colab": {
          "base_uri": "https://localhost:8080/",
          "height": 473
        },
        "outputId": "ba0a537e-7ac3-4140-ddcd-a79770417e86"
      },
      "source": [
        "from PIL import Image, ImageChops, ImageFilter\n",
        "from matplotlib import pyplot as plt\n",
        "\n",
        "x = Image.open(image_x)\n",
        "o = Image.open(image_o)\n",
        "\n",
        "print('size of the image: ', x.size, ' colour mode:', x.mode)\n",
        "print('size of the image: ', o.size, ' colour mode:', o.mode)\n",
        "\n",
        "plt.subplot(121), plt.imshow(x)\n",
        "plt.axis('off')\n",
        "plt.subplot(122), plt.imshow(o)\n",
        "plt.axis('off')\n",
        "\n",
        "#multiply images\n",
        "merged = ImageChops.multiply(x,o)\n",
        "\n",
        "#adding 2 images\n",
        "add = ImageChops.add(x,o)\n",
        "\n",
        "#convert colour mode\n",
        "greyscale = merged.convert('L')\n",
        "greyscale"
      ],
      "execution_count": 72,
      "outputs": [
        {
          "output_type": "stream",
          "text": [
            "size of the image:  (256, 256)  colour mode: RGB\n",
            "size of the image:  (256, 256)  colour mode: RGB\n"
          ],
          "name": "stdout"
        },
        {
          "output_type": "execute_result",
          "data": {
            "image/png": "[encoded data removed]",
            "text/plain": [
              "<PIL.Image.Image image mode=L size=256x256 at 0x7F33D4240CF8>"
            ]
          },
          "metadata": {
            "tags": []
          },
          "execution_count": 72
        },
        {
          "output_type": "display_data",
          "data": {
            "image/png": "[encoded data removed]",
            "text/plain": [
              "<Figure size 432x288 with 2 Axes>"
            ]
          },
          "metadata": {
            "tags": [],
            "needs_background": "light"
          }
        }
      ]
    },
    {
      "cell_type": "code",
      "metadata": {
        "id": "k8V4lSTuO5ZM",
        "colab_type": "code",
        "colab": {
          "base_uri": "https://localhost:8080/",
          "height": 273
        },
        "outputId": "bfc48129-9d79-427e-e5fa-b956876e16e0"
      },
      "source": [
        "#mapping the pixels of the image so we can use them as coordinates\n",
        "pixel = greyscale.load()\n",
        "\n",
        "#a nested loop to parse through all the pixels in the image\n",
        "for row in range(greyscale.size[0]):\n",
        "  for column in range(greyscale.size[1]):\n",
        "    if pixel[row, column] != (255):\n",
        "      pixel[row,column] = (0)\n",
        "\n",
        "greyscale"
      ],
      "execution_count": 74,
      "outputs": [
        {
          "output_type": "execute_result",
          "data": {
            "image/png": "[encoded data removed]",
            "text/plain": [
              "<PIL.Image.Image image mode=L size=256x256 at 0x7F33D4240CF8>"
            ]
          },
          "metadata": {
            "tags": []
          },
          "execution_count": 74
        }
      ]
    },
    {
      "cell_type": "code",
      "metadata": {
        "id": "0HuiHglYW7DY",
        "colab_type": "code",
        "colab": {
          "base_uri": "https://localhost:8080/",
          "height": 273
        },
        "outputId": "ee967f5e-b0d8-4008-a24b-b7addcc0f6d1"
      },
      "source": [
        "#1.invert image\n",
        "invert = ImageChops.invert(greyscale)\n",
        "\n",
        "#2.invert by subtraction\n",
        "bg = Image.new('L', (256, 256), color=(255)) #create a new image with a solid white background\n",
        "subt = ImageChops.subtract(bg, greyscale) #subtract image from background\n",
        "\n",
        "#3. rotate\n",
        "rotate = subt.rotate(45)\n",
        "subt"
      ],
      "execution_count": 94,
      "outputs": [
        {
          "output_type": "execute_result",
          "data": {
            "image/png": "[encoded data removed]",
            "text/plain": [
              "<PIL.Image.Image image mode=L size=256x256 at 0x7F33D3F29EB8>"
            ]
          },
          "metadata": {
            "tags": []
          },
          "execution_count": 94
        }
      ]
    },
    {
      "cell_type": "code",
      "metadata": {
        "id": "vgmG67CSbwVT",
        "colab_type": "code",
        "colab": {
          "base_uri": "https://localhost:8080/",
          "height": 273
        },
        "outputId": "1eb8d7ff-d6e9-404a-b546-4ef9c6b0e6d1"
      },
      "source": [
        "#gaussian blur\n",
        "blur = greyscale.filter(ImageFilter.GaussianBlur(radius=1))\n",
        "\n",
        "#edge detection\n",
        "edge = blur.filter(ImageFilter.FIND_EDGES)\n",
        "edge"
      ],
      "execution_count": 87,
      "outputs": [
        {
          "output_type": "execute_result",
          "data": {
            "image/png": "[encoded data removed]",
            "text/plain": [
              "<PIL.Image.Image image mode=L size=256x256 at 0x7F33D3F29630>"
            ]
          },
          "metadata": {
            "tags": []
          },
          "execution_count": 87
        }
      ]
    },
    {
      "cell_type": "code",
      "metadata": {
        "id": "B91tf-v-dmCs",
        "colab_type": "code",
        "colab": {}
      },
      "source": [
        "#save image in the directory\n",
        "edge.save('/content/drive/My Drive/ImageProcessing/processed.png')"
      ],
      "execution_count": 89,
      "outputs": []
    }
  ]
}